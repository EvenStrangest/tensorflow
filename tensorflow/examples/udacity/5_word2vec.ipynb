{
 "cells": [
  {
   "cell_type": "markdown",
   "metadata": {
    "colab_type": "text",
    "id": "D7tqLMoKF6uq"
   },
   "source": [
    "Deep Learning\n",
    "=============\n",
    "\n",
    "Assignment 5\n",
    "------------\n",
    "\n",
    "The goal of this assignment is to train a skip-gram model over [Text8](http://mattmahoney.net/dc/textdata) data."
   ]
  },
  {
   "cell_type": "code",
   "execution_count": 1,
   "metadata": {
    "cellView": "both",
    "colab": {
     "autoexec": {
      "startup": false,
      "wait_interval": 0
     }
    },
    "colab_type": "code",
    "collapsed": false,
    "id": "0K1ZyLn04QZf"
   },
   "outputs": [
    {
     "name": "stderr",
     "output_type": "stream",
     "text": [
      "/usr/local/lib/python2.7/dist-packages/matplotlib/font_manager.py:273: UserWarning: Matplotlib is building the font cache using fc-list. This may take a moment.\n",
      "  warnings.warn('Matplotlib is building the font cache using fc-list. This may take a moment.')\n"
     ]
    }
   ],
   "source": [
    "# These are all the modules we'll be using later. Make sure you can import them\n",
    "# before proceeding further.\n",
    "from __future__ import print_function\n",
    "import collections\n",
    "import math\n",
    "import numpy as np\n",
    "import os\n",
    "import random\n",
    "import tensorflow as tf\n",
    "import zipfile\n",
    "from matplotlib import pylab\n",
    "from six.moves import range\n",
    "from six.moves.urllib.request import urlretrieve\n",
    "from sklearn.manifold import TSNE"
   ]
  },
  {
   "cell_type": "markdown",
   "metadata": {
    "colab_type": "text",
    "id": "aCjPJE944bkV"
   },
   "source": [
    "Download the data from the source website if necessary."
   ]
  },
  {
   "cell_type": "code",
   "execution_count": 2,
   "metadata": {
    "cellView": "both",
    "colab": {
     "autoexec": {
      "startup": false,
      "wait_interval": 0
     },
     "output_extras": [
      {
       "item_id": 1
      }
     ]
    },
    "colab_type": "code",
    "collapsed": false,
    "executionInfo": {
     "elapsed": 14640,
     "status": "ok",
     "timestamp": 1445964482948,
     "user": {
      "color": "#1FA15D",
      "displayName": "Vincent Vanhoucke",
      "isAnonymous": false,
      "isMe": true,
      "permissionId": "05076109866853157986",
      "photoUrl": "//lh6.googleusercontent.com/-cCJa7dTDcgQ/AAAAAAAAAAI/AAAAAAAACgw/r2EZ_8oYer4/s50-c-k-no/photo.jpg",
      "sessionId": "2f1ffade4c9f20de",
      "userId": "102167687554210253930"
     },
     "user_tz": 420
    },
    "id": "RJ-o3UBUFtCw",
    "outputId": "c4ec222c-80b5-4298-e635-93ca9f79c3b7"
   },
   "outputs": [
    {
     "name": "stdout",
     "output_type": "stream",
     "text": [
      "Found and verified text8.zip\n"
     ]
    }
   ],
   "source": [
    "url = 'http://mattmahoney.net/dc/'\n",
    "\n",
    "def maybe_download(filename, expected_bytes):\n",
    "  \"\"\"Download a file if not present, and make sure it's the right size.\"\"\"\n",
    "  if not os.path.exists(filename):\n",
    "    filename, _ = urlretrieve(url + filename, filename)\n",
    "  statinfo = os.stat(filename)\n",
    "  if statinfo.st_size == expected_bytes:\n",
    "    print('Found and verified %s' % filename)\n",
    "  else:\n",
    "    print(statinfo.st_size)\n",
    "    raise Exception(\n",
    "      'Failed to verify ' + filename + '. Can you get to it with a browser?')\n",
    "  return filename\n",
    "\n",
    "filename = maybe_download('text8.zip', 31344016)"
   ]
  },
  {
   "cell_type": "markdown",
   "metadata": {
    "colab_type": "text",
    "id": "Zqz3XiqI4mZT"
   },
   "source": [
    "Read the data into a string."
   ]
  },
  {
   "cell_type": "code",
   "execution_count": 3,
   "metadata": {
    "cellView": "both",
    "colab": {
     "autoexec": {
      "startup": false,
      "wait_interval": 0
     },
     "output_extras": [
      {
       "item_id": 1
      }
     ]
    },
    "colab_type": "code",
    "collapsed": false,
    "executionInfo": {
     "elapsed": 28844,
     "status": "ok",
     "timestamp": 1445964497165,
     "user": {
      "color": "#1FA15D",
      "displayName": "Vincent Vanhoucke",
      "isAnonymous": false,
      "isMe": true,
      "permissionId": "05076109866853157986",
      "photoUrl": "//lh6.googleusercontent.com/-cCJa7dTDcgQ/AAAAAAAAAAI/AAAAAAAACgw/r2EZ_8oYer4/s50-c-k-no/photo.jpg",
      "sessionId": "2f1ffade4c9f20de",
      "userId": "102167687554210253930"
     },
     "user_tz": 420
    },
    "id": "Mvf09fjugFU_",
    "outputId": "e3a928b4-1645-4fe8-be17-fcf47de5716d"
   },
   "outputs": [
    {
     "name": "stdout",
     "output_type": "stream",
     "text": [
      "Data size 17005207\n"
     ]
    }
   ],
   "source": [
    "def read_data(filename):\n",
    "  f = zipfile.ZipFile(filename)\n",
    "  for name in f.namelist():\n",
    "    return tf.compat.as_str(f.read(name)).split()\n",
    "  f.close()\n",
    "  \n",
    "words = read_data(filename)\n",
    "print('Data size %d' % len(words))"
   ]
  },
  {
   "cell_type": "markdown",
   "metadata": {
    "colab_type": "text",
    "id": "Zdw6i4F8glpp"
   },
   "source": [
    "Build the dictionary and replace rare words with UNK token."
   ]
  },
  {
   "cell_type": "code",
   "execution_count": 4,
   "metadata": {
    "cellView": "both",
    "colab": {
     "autoexec": {
      "startup": false,
      "wait_interval": 0
     },
     "output_extras": [
      {
       "item_id": 1
      }
     ]
    },
    "colab_type": "code",
    "collapsed": false,
    "executionInfo": {
     "elapsed": 28849,
     "status": "ok",
     "timestamp": 1445964497178,
     "user": {
      "color": "#1FA15D",
      "displayName": "Vincent Vanhoucke",
      "isAnonymous": false,
      "isMe": true,
      "permissionId": "05076109866853157986",
      "photoUrl": "//lh6.googleusercontent.com/-cCJa7dTDcgQ/AAAAAAAAAAI/AAAAAAAACgw/r2EZ_8oYer4/s50-c-k-no/photo.jpg",
      "sessionId": "2f1ffade4c9f20de",
      "userId": "102167687554210253930"
     },
     "user_tz": 420
    },
    "id": "gAL1EECXeZsD",
    "outputId": "3fb4ecd1-df67-44b6-a2dc-2291730970b2"
   },
   "outputs": [
    {
     "name": "stdout",
     "output_type": "stream",
     "text": [
      "Most common words (+UNK) [['UNK', 418391], ('the', 1061396), ('of', 593677), ('and', 416629), ('one', 411764)]\n",
      "Sample data [5239, 3084, 12, 6, 195, 2, 3137, 46, 59, 156]\n"
     ]
    }
   ],
   "source": [
    "vocabulary_size = 50000\n",
    "\n",
    "def build_dataset(words):\n",
    "  count = [['UNK', -1]]\n",
    "  count.extend(collections.Counter(words).most_common(vocabulary_size - 1))\n",
    "  dictionary = dict()\n",
    "  for word, _ in count:\n",
    "    dictionary[word] = len(dictionary)\n",
    "  data = list()\n",
    "  unk_count = 0\n",
    "  for word in words:\n",
    "    if word in dictionary:\n",
    "      index_into_count = dictionary[word]\n",
    "    else:\n",
    "      index_into_count = 0  # dictionary['UNK']\n",
    "      unk_count = unk_count + 1\n",
    "    data.append(index_into_count)\n",
    "  count[0][1] = unk_count\n",
    "  reverse_dictionary = dict(zip(dictionary.values(), dictionary.keys()))\n",
    "  return data, count, dictionary, reverse_dictionary\n",
    "\n",
    "data, count, dictionary, reverse_dictionary = build_dataset(words)\n",
    "print('Most common words (+UNK)', count[:5])\n",
    "print('Sample data', data[:10])\n",
    "del words  # Hint to reduce memory."
   ]
  },
  {
   "cell_type": "markdown",
   "metadata": {
    "colab_type": "text",
    "id": "lFwoyygOmWsL"
   },
   "source": [
    "Function to generate a training batch for the skip-gram model."
   ]
  },
  {
   "cell_type": "code",
   "execution_count": 5,
   "metadata": {
    "cellView": "both",
    "colab": {
     "autoexec": {
      "startup": false,
      "wait_interval": 0
     },
     "output_extras": [
      {
       "item_id": 1
      }
     ]
    },
    "colab_type": "code",
    "collapsed": false,
    "executionInfo": {
     "elapsed": 113,
     "status": "ok",
     "timestamp": 1445964901989,
     "user": {
      "color": "#1FA15D",
      "displayName": "Vincent Vanhoucke",
      "isAnonymous": false,
      "isMe": true,
      "permissionId": "05076109866853157986",
      "photoUrl": "//lh6.googleusercontent.com/-cCJa7dTDcgQ/AAAAAAAAAAI/AAAAAAAACgw/r2EZ_8oYer4/s50-c-k-no/photo.jpg",
      "sessionId": "2f1ffade4c9f20de",
      "userId": "102167687554210253930"
     },
     "user_tz": 420
    },
    "id": "w9APjA-zmfjV",
    "outputId": "67cccb02-cdaf-4e47-d489-43bcc8d57bb8"
   },
   "outputs": [
    {
     "name": "stdout",
     "output_type": "stream",
     "text": [
      "data: ['anarchism', 'originated', 'as', 'a', 'term', 'of', 'abuse', 'first']\n",
      "\n",
      "with num_skips = 2 and skip_window = 1:\n",
      "    batch: ['originated', 'originated', 'as', 'as', 'a', 'a', 'term', 'term']\n",
      "    labels: ['anarchism', 'as', 'originated', 'a', 'as', 'term', 'of', 'a']\n",
      "\n",
      "with num_skips = 4 and skip_window = 2:\n",
      "    batch: ['as', 'as', 'as', 'as', 'a', 'a', 'a', 'a']\n",
      "    labels: ['originated', 'term', 'anarchism', 'a', 'as', 'of', 'originated', 'term']\n"
     ]
    }
   ],
   "source": [
    "data_index = 0\n",
    "\n",
    "def generate_batch(batch_size, num_skips, skip_window):\n",
    "  global data_index\n",
    "  assert batch_size % num_skips == 0\n",
    "  assert num_skips <= 2 * skip_window\n",
    "  batch = np.ndarray(shape=(batch_size), dtype=np.int32)\n",
    "  labels = np.ndarray(shape=(batch_size, 1), dtype=np.int32)\n",
    "  span = 2 * skip_window + 1 # [ skip_window target skip_window ]\n",
    "  buffer = collections.deque(maxlen=span)\n",
    "  for _ in range(span):\n",
    "    buffer.append(data[data_index])\n",
    "    data_index = (data_index + 1) % len(data)\n",
    "  for i in range(batch_size // num_skips):\n",
    "    target = skip_window  # target label at the center of the buffer\n",
    "    targets_to_avoid = [ skip_window ]\n",
    "    for j in range(num_skips):\n",
    "      while target in targets_to_avoid:\n",
    "        target = random.randint(0, span - 1)\n",
    "      targets_to_avoid.append(target)\n",
    "      batch[i * num_skips + j] = buffer[skip_window]\n",
    "      labels[i * num_skips + j, 0] = buffer[target]\n",
    "    buffer.append(data[data_index])\n",
    "    data_index = (data_index + 1) % len(data)\n",
    "  return batch, labels\n",
    "\n",
    "print('data:', [reverse_dictionary[di] for di in data[:8]])\n",
    "\n",
    "for num_skips, skip_window in [(2, 1), (4, 2)]:\n",
    "    data_index = 0\n",
    "    batch, labels = generate_batch(batch_size=8, num_skips=num_skips, skip_window=skip_window)\n",
    "    print('\\nwith num_skips = %d and skip_window = %d:' % (num_skips, skip_window))\n",
    "    print('    batch:', [reverse_dictionary[bi] for bi in batch])\n",
    "    print('    labels:', [reverse_dictionary[li] for li in labels.reshape(8)])"
   ]
  },
  {
   "cell_type": "markdown",
   "metadata": {
    "colab_type": "text",
    "id": "Ofd1MbBuwiva"
   },
   "source": [
    "Train a skip-gram model."
   ]
  },
  {
   "cell_type": "code",
   "execution_count": 6,
   "metadata": {
    "cellView": "both",
    "colab": {
     "autoexec": {
      "startup": false,
      "wait_interval": 0
     }
    },
    "colab_type": "code",
    "collapsed": true,
    "id": "8pQKsV4Vwlzy"
   },
   "outputs": [],
   "source": [
    "batch_size = 128\n",
    "embedding_size = 128 # Dimension of the embedding vector.\n",
    "skip_window = 1 # How many words to consider left and right.\n",
    "num_skips = 2 # How many times to reuse an input to generate a label.\n",
    "# We pick a random validation set to sample nearest neighbors. here we limit the\n",
    "# validation samples to the words that have a low numeric ID, which by\n",
    "# construction are also the most frequent. \n",
    "valid_size = 16 # Random set of words to evaluate similarity on.\n",
    "valid_window = 100 # Only pick dev samples in the head of the distribution.\n",
    "valid_examples = np.array(random.sample(range(valid_window), valid_size))\n",
    "num_sampled = 64 # Number of negative examples to sample.\n",
    "\n",
    "graph = tf.Graph()\n",
    "\n",
    "with graph.as_default(), tf.device('/cpu:0'):\n",
    "\n",
    "  # Input data.\n",
    "  train_dataset = tf.placeholder(tf.int32, shape=[batch_size])\n",
    "  train_labels = tf.placeholder(tf.int32, shape=[batch_size, 1])\n",
    "  valid_dataset = tf.constant(valid_examples, dtype=tf.int32)\n",
    "  \n",
    "  # Variables.\n",
    "  embeddings = tf.Variable(\n",
    "    tf.random_uniform([vocabulary_size, embedding_size], -1.0, 1.0))\n",
    "  softmax_weights = tf.Variable(\n",
    "    tf.truncated_normal([vocabulary_size, embedding_size],\n",
    "                         stddev=1.0 / math.sqrt(embedding_size)))\n",
    "  softmax_biases = tf.Variable(tf.zeros([vocabulary_size]))\n",
    "  \n",
    "  # Model.\n",
    "  # Look up embeddings for inputs.\n",
    "  embed = tf.nn.embedding_lookup(embeddings, train_dataset)\n",
    "  # Compute the softmax loss, using a sample of the negative labels each time.\n",
    "  loss = tf.reduce_mean(\n",
    "    tf.nn.sampled_softmax_loss(softmax_weights, softmax_biases, embed,\n",
    "                               train_labels, num_sampled, vocabulary_size))\n",
    "  \n",
    "  # Optimizer.\n",
    "  optimizer = tf.train.AdagradOptimizer(1.0).minimize(loss)\n",
    "  \n",
    "  # Compute the similarity between minibatch examples and all embeddings.\n",
    "  # We use the cosine distance:\n",
    "  norm = tf.sqrt(tf.reduce_sum(tf.square(embeddings), 1, keep_dims=True))\n",
    "  normalized_embeddings = embeddings / norm\n",
    "  valid_embeddings = tf.nn.embedding_lookup(\n",
    "    normalized_embeddings, valid_dataset)\n",
    "  similarity = tf.matmul(valid_embeddings, tf.transpose(normalized_embeddings))"
   ]
  },
  {
   "cell_type": "code",
   "execution_count": 7,
   "metadata": {
    "cellView": "both",
    "colab": {
     "autoexec": {
      "startup": false,
      "wait_interval": 0
     },
     "output_extras": [
      {
       "item_id": 23
      },
      {
       "item_id": 48
      },
      {
       "item_id": 61
      }
     ]
    },
    "colab_type": "code",
    "collapsed": false,
    "executionInfo": {
     "elapsed": 436189,
     "status": "ok",
     "timestamp": 1445965429787,
     "user": {
      "color": "#1FA15D",
      "displayName": "Vincent Vanhoucke",
      "isAnonymous": false,
      "isMe": true,
      "permissionId": "05076109866853157986",
      "photoUrl": "//lh6.googleusercontent.com/-cCJa7dTDcgQ/AAAAAAAAAAI/AAAAAAAACgw/r2EZ_8oYer4/s50-c-k-no/photo.jpg",
      "sessionId": "2f1ffade4c9f20de",
      "userId": "102167687554210253930"
     },
     "user_tz": 420
    },
    "id": "1bQFGceBxrWW",
    "outputId": "5ebd6d9a-33c6-4bcd-bf6d-252b0b6055e4"
   },
   "outputs": [
    {
     "name": "stdout",
     "output_type": "stream",
     "text": [
      "Initialized\n",
      "Average loss at step 0: 8.092085\n",
      "Nearest to states: iscariot, thousand, roadmap, fita, underbelly, cooper, harappa, cosmography,\n",
      "Nearest to its: topless, callaghan, flagellates, letterboxing, poured, perrin, imperfect, concatenation,\n",
      "Nearest to UNK: locates, suitable, anatomical, surmised, circe, lazy, counting, taney,\n",
      "Nearest to can: anoint, abhidhamma, valiantly, hillside, sustains, catches, hannover, asteraceae,\n",
      "Nearest to seven: kazimierz, aborigines, abdominal, ramayana, agrarianism, scavenging, hesse, lesley,\n",
      "Nearest to for: holistic, loyalty, travers, eutyches, hermitian, wells, metallurgical, thrive,\n",
      "Nearest to the: imprecise, wreath, suborders, dotted, divorce, overlay, warring, plosives,\n",
      "Nearest to eight: iridescent, showings, pictorial, amor, wellington, plectrum, mayfield, dorne,\n",
      "Nearest to people: colorful, seeded, robin, hilberg, felines, sinister, chisinau, tours,\n",
      "Nearest to it: marv, catenary, jaffa, flame, observable, macbeth, subdued, wardrobe,\n",
      "Nearest to and: puente, pastry, akiva, ola, prepositions, neologisms, conceiving, psi,\n",
      "Nearest to this: archivist, winston, rzeczypospolitej, hypothesis, israelite, fmd, inflate, procure,\n",
      "Nearest to more: achaeans, honey, sara, hemingway, magnesians, superb, capitalists, quarters,\n",
      "Nearest to see: delved, shrimp, magdalen, buddhism, serapeum, voltage, install, lithuanian,\n",
      "Nearest to new: reestablishment, vito, illa, venezuela, monotonous, emphatic, parr, battista,\n",
      "Nearest to i: slim, conceals, magnetometer, amending, vidal, partner, spires, niger,\n",
      "Average loss at step 2000: 4.362636\n",
      "Average loss at step 4000: 3.869744\n",
      "Average loss at step 6000: 3.788122\n",
      "Average loss at step 8000: 3.689819\n",
      "Average loss at step 10000: 3.607537\n",
      "Nearest to states: underbelly, iscariot, muon, irving, anglian, teleology, misinterpretation, aids,\n",
      "Nearest to its: the, their, his, andre, rejuvenated, topless, imprecise, sverdlovsk,\n",
      "Nearest to UNK: khaldun, arf, naturalists, gash, cluny, stanford, flanders, cleanliness,\n",
      "Nearest to can: may, must, would, evoking, compensatory, mormons, baptists, markup,\n",
      "Nearest to seven: six, eight, three, nine, four, five, zero, two,\n",
      "Nearest to for: in, of, with, cliques, baccalaureate, intensified, and, saucers,\n",
      "Nearest to the: its, a, this, his, their, an, tsunami, latham,\n",
      "Nearest to eight: six, nine, five, seven, four, three, zero, two,\n",
      "Nearest to people: colorful, leno, abide, robin, seeded, sinister, screwed, different,\n",
      "Nearest to it: he, this, there, which, they, not, arid, that,\n",
      "Nearest to and: or, mathcal, american, noir, he, s, whey, of,\n",
      "Nearest to this: it, the, which, polonia, kayaking, a, zy, coda,\n",
      "Nearest to more: hemingway, achaeans, superb, dysprosium, less, not, hanford, slovenians,\n",
      "Nearest to see: monkey, racers, travelogue, h, proprietary, colonna, rufus, delved,\n",
      "Nearest to new: vito, battista, nahuatl, gestis, cobra, singaporean, dries, relentlessly,\n",
      "Nearest to i: we, you, matti, vidal, slim, minamoto, garments, sought,\n",
      "Average loss at step 12000: 3.609063\n",
      "Average loss at step 14000: 3.566319\n",
      "Average loss at step 16000: 3.411614\n",
      "Average loss at step 18000: 3.454830\n",
      "Average loss at step 20000: 3.538693\n",
      "Nearest to states: muon, irving, aquifers, underbelly, sejm, teleology, fourteen, aids,\n",
      "Nearest to its: their, the, his, sverdlovsk, andre, rejuvenated, her, another,\n",
      "Nearest to UNK: gash, moniker, huggins, mr, nilotic, funnel, theologian, berlitz,\n",
      "Nearest to can: may, would, must, will, might, should, could, cannot,\n",
      "Nearest to seven: eight, six, five, nine, four, three, zero, two,\n",
      "Nearest to for: of, cliques, in, by, epa, neuch, julian, mcneil,\n",
      "Nearest to the: its, their, his, this, a, imprecise, quay, signaling,\n",
      "Nearest to eight: seven, six, nine, four, five, three, two, zero,\n",
      "Nearest to people: leno, sinister, colorful, nurses, cuyahoga, robin, screwed, abide,\n",
      "Nearest to it: he, this, there, which, they, she, not, batavia,\n",
      "Nearest to and: or, but, while, in, from, slipped, mathcal, which,\n",
      "Nearest to this: it, which, the, a, any, that, magen, rossini,\n",
      "Nearest to more: less, most, dysprosium, arid, achaeans, hemingway, stop, not,\n",
      "Nearest to see: monkey, proprietary, bluebeard, h, travelogue, racers, ets, monism,\n",
      "Nearest to new: battista, vito, gestis, carniola, benevolent, reestablishment, chalice, assr,\n",
      "Nearest to i: ii, kidnappings, mondegreens, minamoto, we, troop, g, slim,\n",
      "Average loss at step 22000: 3.501102\n",
      "Average loss at step 24000: 3.487492\n",
      "Average loss at step 26000: 3.484972\n",
      "Average loss at step 28000: 3.478751\n",
      "Average loss at step 30000: 3.504336\n",
      "Nearest to states: aquifers, irving, kingdom, apartheid, nations, cisc, muon, fourteen,\n",
      "Nearest to its: their, the, his, her, sverdlovsk, any, another, extant,\n",
      "Nearest to UNK: tarquinius, ari, donald, cytoplasm, wehrmacht, gash, animists, quotations,\n",
      "Nearest to can: may, would, must, will, could, might, should, cannot,\n",
      "Nearest to seven: nine, six, four, eight, five, three, two, one,\n",
      "Nearest to for: with, nmr, epa, accepted, cliques, saucers, pohnpei, including,\n",
      "Nearest to the: their, its, his, our, a, sheng, lachlan, any,\n",
      "Nearest to eight: nine, six, seven, four, five, three, zero, two,\n",
      "Nearest to people: leno, countries, contemplated, nurses, sinister, screwed, baptize, children,\n",
      "Nearest to it: he, there, this, she, they, which, batavia, also,\n",
      "Nearest to and: or, sassanian, but, denaturation, who, cashmere, microtubule, in,\n",
      "Nearest to this: it, which, any, what, that, incumbents, not, rossini,\n",
      "Nearest to more: less, most, better, gasoline, very, hemingway, extremely, achaeans,\n",
      "Nearest to see: monkey, ets, bluebeard, proprietary, diels, manila, sula, constructs,\n",
      "Nearest to new: gestis, vito, battista, cobra, quorum, major, assr, carniola,\n",
      "Nearest to i: ii, we, kidnappings, they, g, t, you, minamoto,\n",
      "Average loss at step 32000: 3.497522\n",
      "Average loss at step 34000: 3.491208\n",
      "Average loss at step 36000: 3.450717\n",
      "Average loss at step 38000: 3.301454\n",
      "Average loss at step 40000: 3.425423\n",
      "Nearest to states: kingdom, nations, aquifers, countries, irving, sejm, cisc, cpc,\n",
      "Nearest to its: their, his, her, the, ateneo, sverdlovsk, rejuvenated, hemlock,\n",
      "Nearest to UNK: n, b, walter, greatly, khalid, keeper, unifying, quaker,\n",
      "Nearest to can: may, will, must, would, could, might, should, cannot,\n",
      "Nearest to seven: five, six, eight, nine, four, three, zero, two,\n",
      "Nearest to for: in, including, with, of, epa, pohnpei, while, fluffy,\n",
      "Nearest to the: a, this, its, their, his, each, bandleader, some,\n",
      "Nearest to eight: nine, seven, six, four, five, three, zero, one,\n",
      "Nearest to people: leno, scholars, nurses, languages, critics, experts, baptize, crackdown,\n",
      "Nearest to it: he, there, she, this, they, batavia, which, what,\n",
      "Nearest to and: or, but, including, in, somber, cytokines, nikolay, like,\n",
      "Nearest to this: which, it, that, the, what, another, rossini, viciously,\n",
      "Nearest to more: less, most, better, very, extremely, temptations, greater, gasoline,\n",
      "Nearest to see: monkey, list, diels, ets, ogre, bfbs, condensate, kemerovo,\n",
      "Nearest to new: gestis, vito, reference, battista, executed, earns, assr, rink,\n",
      "Nearest to i: we, ii, you, they, t, he, g, minamoto,\n",
      "Average loss at step 42000: 3.434284\n",
      "Average loss at step 44000: 3.454989\n",
      "Average loss at step 46000: 3.450317\n",
      "Average loss at step 48000: 3.350161\n",
      "Average loss at step 50000: 3.380651\n",
      "Nearest to states: kingdom, nations, aquifers, irving, transshipment, canidae, sejm, fourteen,\n",
      "Nearest to its: their, his, the, her, ateneo, sverdlovsk, another, rejuvenated,\n",
      "Nearest to UNK: la, et, salon, al, heracleidae, khaldun, de, com,\n",
      "Nearest to can: may, would, must, could, will, might, should, cannot,\n",
      "Nearest to seven: six, eight, nine, four, three, five, zero, two,\n",
      "Nearest to for: while, locate, saucers, epa, pohnpei, including, lomond, manipulative,\n",
      "Nearest to the: its, their, this, his, quay, a, nesmith, any,\n",
      "Nearest to eight: six, seven, nine, four, five, three, one, two,\n",
      "Nearest to people: leno, scholars, men, mitotic, children, critics, baptize, duffy,\n",
      "Nearest to it: he, there, she, they, this, still, companionship, batavia,\n",
      "Nearest to and: or, but, while, including, geographic, monolingual, of, touring,\n",
      "Nearest to this: which, it, the, another, he, tonnes, majorities, pontus,\n",
      "Nearest to more: less, most, very, better, extremely, arid, merrimack, bracelets,\n",
      "Nearest to see: monkey, reputations, include, bluebeard, list, ets, containing, ogre,\n",
      "Nearest to new: gestis, reference, rink, assr, basement, elan, vito, special,\n",
      "Nearest to i: we, ii, you, they, g, topple, t, iff,\n",
      "Average loss at step 52000: 3.437191\n",
      "Average loss at step 54000: 3.428425\n",
      "Average loss at step 56000: 3.435758\n",
      "Average loss at step 58000: 3.391363\n",
      "Average loss at step 60000: 3.394956\n",
      "Nearest to states: kingdom, nations, countries, canidae, irving, elections, sejm, transshipment,\n",
      "Nearest to its: their, his, the, her, pathway, ateneo, our, fancher,\n",
      "Nearest to UNK: et, bantu, mudd, literally, valentino, des, cleanliness, mvs,\n",
      "Nearest to can: may, could, must, would, will, might, should, cannot,\n",
      "Nearest to seven: six, eight, four, five, nine, three, one, zero,\n",
      "Nearest to for: of, pohnpei, including, blog, in, eutyches, epa, ejection,\n",
      "Nearest to the: its, a, their, any, quay, some, every, petrochemical,\n",
      "Nearest to eight: nine, six, four, seven, five, three, zero, one,\n",
      "Nearest to people: scholars, leno, men, children, critics, others, countries, experts,\n",
      "Nearest to it: he, there, this, she, what, companionship, still, they,\n",
      "Nearest to and: or, but, although, while, including, usable, than, see,\n",
      "Nearest to this: which, it, that, there, majorities, atomism, the, a,\n",
      "Nearest to more: less, most, better, very, larger, rather, extremely, greater,\n",
      "Nearest to see: include, monkey, containing, bluebeard, list, jardines, kinnear, but,\n",
      "Nearest to new: rink, assr, gestis, reference, lowest, printing, battista, sq,\n",
      "Nearest to i: we, you, ii, they, g, t, boito, everton,\n",
      "Average loss at step 62000: 3.239573\n",
      "Average loss at step 64000: 3.248174\n",
      "Average loss at step 66000: 3.404684\n",
      "Average loss at step 68000: 3.390529\n",
      "Average loss at step 70000: 3.360296\n",
      "Nearest to states: kingdom, nations, countries, state, transshipment, sejm, fourteen, viol,\n",
      "Nearest to its: their, his, the, her, ghaznavid, sverdlovsk, compression, andre,\n",
      "Nearest to UNK: mudd, salon, luck, vases, wikipedia, wrinkled, khalid, rivest,\n",
      "Nearest to can: may, could, would, must, will, might, cannot, should,\n",
      "Nearest to seven: six, eight, four, nine, five, zero, three, one,\n",
      "Nearest to for: pohnpei, in, including, cliques, forgeries, fluffy, constitutes, manipulative,\n",
      "Nearest to the: their, any, its, this, a, each, these, another,\n",
      "Nearest to eight: nine, six, seven, four, five, zero, three, two,\n",
      "Nearest to people: children, men, scholars, others, leno, critics, baptize, crackdown,\n",
      "Nearest to it: he, she, there, this, they, still, batavia, we,\n",
      "Nearest to and: or, but, while, monolingual, of, than, like, which,\n",
      "Nearest to this: it, which, the, that, another, there, he, what,\n",
      "Nearest to more: less, most, very, better, extremely, larger, rather, smaller,\n",
      "Nearest to see: include, list, monkey, containing, but, reputations, bluebeard, bfbs,\n",
      "Nearest to new: rink, assr, amdahl, battista, gestis, wreckage, printing, tennis,\n",
      "Nearest to i: we, you, ii, g, thurgood, they, boito, topple,\n",
      "Average loss at step 72000: 3.372821\n",
      "Average loss at step 74000: 3.350133\n",
      "Average loss at step 76000: 3.313731\n",
      "Average loss at step 78000: 3.346594\n",
      "Average loss at step 80000: 3.381728\n",
      "Nearest to states: kingdom, nations, state, transshipment, sejm, fourteen, mutualism, abdallah,\n",
      "Nearest to its: their, her, his, the, our, your, ghaznavid, jingles,\n",
      "Nearest to UNK: itis, el, producer, purporting, theologian, memes, r, l,\n",
      "Nearest to can: could, may, will, must, would, might, cannot, should,\n",
      "Nearest to seven: eight, six, five, four, nine, three, zero, one,\n",
      "Nearest to for: pohnpei, fluffy, including, after, potent, forgeries, ebu, cliques,\n",
      "Nearest to the: its, a, this, their, his, quay, petrochemical, morpheus,\n",
      "Nearest to eight: six, seven, nine, four, five, three, zero, one,\n",
      "Nearest to people: men, children, scholars, others, critics, leno, individuals, women,\n",
      "Nearest to it: he, there, she, this, they, never, not, still,\n",
      "Nearest to and: or, including, but, revolting, than, while, theatrically, ablaze,\n",
      "Nearest to this: it, which, the, another, what, itself, there, majorities,\n",
      "Nearest to more: less, very, most, better, extremely, rather, larger, smaller,\n",
      "Nearest to see: include, monkey, bluebeard, includes, list, fulltext, effendi, alessandri,\n",
      "Nearest to new: reference, battista, gestis, wreckage, qualitative, assr, printing, alabama,\n",
      "Nearest to i: you, we, ii, g, iii, boito, amalric, topple,\n",
      "Average loss at step 82000: 3.407842\n",
      "Average loss at step 84000: 3.407591\n",
      "Average loss at step 86000: 3.387259\n",
      "Average loss at step 88000: 3.351482\n",
      "Average loss at step 90000: 3.360822\n",
      "Nearest to states: kingdom, nations, fourteen, abdallah, transshipment, state, countries, encrypting,\n",
      "Nearest to its: their, his, her, the, our, sverdlovsk, whose, kilts,\n",
      "Nearest to UNK: mr, stratford, keynes, cac, nat, ilium, johnston, seasonal,\n",
      "Nearest to can: could, may, must, will, would, might, should, cannot,\n",
      "Nearest to seven: five, eight, nine, four, six, three, one, zero,\n",
      "Nearest to for: including, after, pohnpei, forgeries, suprema, if, seismology, when,\n",
      "Nearest to the: its, their, quay, his, any, this, a, petrochemical,\n",
      "Nearest to eight: seven, nine, five, six, four, three, zero, two,\n",
      "Nearest to people: children, men, women, scholars, critics, individuals, person, writers,\n",
      "Nearest to it: he, she, there, this, they, itself, batavia, never,\n",
      "Nearest to and: or, but, including, while, although, universala, geelong, which,\n",
      "Nearest to this: it, which, another, majorities, any, the, what, some,\n",
      "Nearest to more: less, very, most, better, extremely, larger, rather, highly,\n",
      "Nearest to see: list, include, monkey, references, consonantal, ets, includes, companionship,\n",
      "Nearest to new: wreckage, reference, alabama, qualitative, gestis, risings, old, missionaries,\n",
      "Nearest to i: we, you, g, ii, r, iii, boito, jumbo,\n",
      "Average loss at step 92000: 3.399357\n",
      "Average loss at step 94000: 3.247228\n",
      "Average loss at step 96000: 3.360328\n",
      "Average loss at step 98000: 3.243456\n",
      "Average loss at step 100000: 3.361214\n",
      "Nearest to states: kingdom, nations, transshipment, abdallah, state, irving, countries, aquifers,\n",
      "Nearest to its: their, his, her, the, our, whose, sverdlovsk, drug,\n",
      "Nearest to UNK: avalanche, shark, duarte, sinuous, discredited, priestess, buchanan, r,\n",
      "Nearest to can: may, could, must, will, would, should, might, cannot,\n",
      "Nearest to seven: eight, nine, six, five, four, zero, three, two,\n",
      "Nearest to for: when, including, suprema, after, epa, polyalphabetic, if, despite,\n",
      "Nearest to the: your, his, their, its, a, our, sheng, some,\n",
      "Nearest to eight: seven, nine, six, five, four, three, two, zero,\n",
      "Nearest to people: children, critics, men, scholars, individuals, countries, women, speakers,\n",
      "Nearest to it: he, she, there, this, they, never, what, batavia,\n",
      "Nearest to and: or, but, while, although, when, including, like, who,\n",
      "Nearest to this: which, it, another, what, he, some, enver, itself,\n",
      "Nearest to more: less, most, very, better, extremely, greater, larger, quite,\n",
      "Nearest to see: list, references, includes, monkey, bluebeard, include, consonantal, can,\n",
      "Nearest to new: reference, wreckage, special, different, rorty, alabama, qualitative, logbook,\n",
      "Nearest to i: we, you, ii, they, iii, aldous, g, he,\n"
     ]
    }
   ],
   "source": [
    "num_steps = 100001\n",
    "\n",
    "with tf.Session(graph=graph) as session:\n",
    "  tf.initialize_all_variables().run()\n",
    "  print('Initialized')\n",
    "  average_loss = 0\n",
    "  for step in range(num_steps):\n",
    "    batch_data, batch_labels = generate_batch(\n",
    "      batch_size, num_skips, skip_window)\n",
    "    feed_dict = {train_dataset : batch_data, train_labels : batch_labels}\n",
    "    _, l = session.run([optimizer, loss], feed_dict=feed_dict)\n",
    "    average_loss += l\n",
    "    if step % 2000 == 0:\n",
    "      if step > 0:\n",
    "        average_loss = average_loss / 2000\n",
    "      # The average loss is an estimate of the loss over the last 2000 batches.\n",
    "      print('Average loss at step %d: %f' % (step, average_loss))\n",
    "      average_loss = 0\n",
    "    # note that this is expensive (~20% slowdown if computed every 500 steps)\n",
    "    if step % 10000 == 0:\n",
    "      sim = similarity.eval()\n",
    "      for i in xrange(valid_size):\n",
    "        valid_word = reverse_dictionary[valid_examples[i]]\n",
    "        top_k = 8 # number of nearest neighbors\n",
    "        nearest = (-sim[i, :]).argsort()[1:top_k+1]\n",
    "        log = 'Nearest to %s:' % valid_word\n",
    "        for k in xrange(top_k):\n",
    "          close_word = reverse_dictionary[nearest[k]]\n",
    "          log = '%s %s,' % (log, close_word)\n",
    "        print(log)\n",
    "  final_embeddings = normalized_embeddings.eval()"
   ]
  },
  {
   "cell_type": "code",
   "execution_count": 8,
   "metadata": {
    "cellView": "both",
    "colab": {
     "autoexec": {
      "startup": false,
      "wait_interval": 0
     }
    },
    "colab_type": "code",
    "collapsed": true,
    "id": "jjJXYA_XzV79"
   },
   "outputs": [],
   "source": [
    "num_points = 400\n",
    "\n",
    "tsne = TSNE(perplexity=30, n_components=2, init='pca', n_iter=5000)\n",
    "two_d_embeddings = tsne.fit_transform(final_embeddings[1:num_points+1, :])\n",
    "# why ruclidean distance here, and not cosine?"
   ]
  },
  {
   "cell_type": "code",
   "execution_count": 9,
   "metadata": {
    "cellView": "both",
    "colab": {
     "autoexec": {
      "startup": false,
      "wait_interval": 0
     },
     "output_extras": [
      {
       "item_id": 1
      }
     ]
    },
    "colab_type": "code",
    "collapsed": false,
    "executionInfo": {
     "elapsed": 4763,
     "status": "ok",
     "timestamp": 1445965465525,
     "user": {
      "color": "#1FA15D",
      "displayName": "Vincent Vanhoucke",
      "isAnonymous": false,
      "isMe": true,
      "permissionId": "05076109866853157986",
      "photoUrl": "//lh6.googleusercontent.com/-cCJa7dTDcgQ/AAAAAAAAAAI/AAAAAAAACgw/r2EZ_8oYer4/s50-c-k-no/photo.jpg",
      "sessionId": "2f1ffade4c9f20de",
      "userId": "102167687554210253930"
     },
     "user_tz": 420
    },
    "id": "o_e0D_UezcDe",
    "outputId": "df22e4a5-e8ec-4e5e-d384-c6cf37c68c34"
   },
   "outputs": [],
   "source": [
    "def plot(embeddings, labels):\n",
    "  assert embeddings.shape[0] >= len(labels), 'More labels than embeddings'\n",
    "  pylab.figure(figsize=(15,15))  # in inches\n",
    "  for i, label in enumerate(labels):\n",
    "    x, y = embeddings[i,:]\n",
    "    pylab.scatter(x, y)\n",
    "    pylab.annotate(label, xy=(x, y), xytext=(5, 2), textcoords='offset points',\n",
    "                   ha='right', va='bottom')\n",
    "  pylab.show()\n",
    "\n",
    "words = [reverse_dictionary[i] for i in range(1, num_points+1)]\n",
    "plot(two_d_embeddings, words)"
   ]
  },
  {
   "cell_type": "markdown",
   "metadata": {
    "colab_type": "text",
    "id": "QB5EFrBnpNnc"
   },
   "source": [
    "---\n",
    "\n",
    "Problem\n",
    "-------\n",
    "\n",
    "An alternative to Word2Vec is called [CBOW](http://arxiv.org/abs/1301.3781) (Continuous Bag of Words). In the CBOW model, instead of predicting a context word from a word vector, you predict a word from the sum of all the word vectors in its context. Implement and evaluate a CBOW model trained on the text8 dataset.\n",
    "\n",
    "---"
   ]
  },
  {
   "cell_type": "code",
   "execution_count": 16,
   "metadata": {
    "collapsed": false
   },
   "outputs": [
    {
     "name": "stdout",
     "output_type": "stream",
     "text": [
      "data: ['anarchism', 'originated', 'as', 'a', 'term', 'of', 'abuse', 'first']\n",
      "\n",
      "with skip_window = 1:\n",
      "    batch: [['anarchism', 'as'], ['originated', 'a'], ['as', 'term'], ['a', 'of'], ['term', 'abuse'], ['of', 'first'], ['abuse', 'used'], ['first', 'against']]\n",
      "    labels: ['originated', 'as', 'a', 'term', 'of', 'abuse', 'first', 'used']\n"
     ]
    }
   ],
   "source": [
    "data_index = 0\n",
    "\n",
    "def generate_batch(batch_size, skip_window):\n",
    "  assert skip_window == 1 # Handling of this value is hard-coded here.\n",
    "  global data_index\n",
    "  batch  = np.ndarray(shape=(batch_size, 2), dtype=np.int32)\n",
    "  labels = np.ndarray(shape=(batch_size, 1), dtype=np.int32)\n",
    "  span = 2*skip_window + 1 # [ skip_window target skip_window ]\n",
    "  buffer = collections.deque(maxlen=span)\n",
    "  for _ in range(span):\n",
    "    buffer.append(data[data_index])\n",
    "    data_index = (data_index + 1) % len(data)\n",
    "  for i in range(batch_size):\n",
    "    target = skip_window  # target label at the center of the buffer\n",
    "    batch[i, 0] = buffer[skip_window-1]\n",
    "    batch[i, 1] = buffer[skip_window+1]\n",
    "    labels[i, 0] = buffer[target]\n",
    "    buffer.append(data[data_index])\n",
    "    data_index = (data_index + 1) % len(data)\n",
    "  return batch, labels\n",
    "\n",
    "print('data:', [reverse_dictionary[di] for di in data[:8]])\n",
    "\n",
    "for skip_window in [1]:\n",
    "    data_index = 0\n",
    "    batch, labels = generate_batch(batch_size=8, skip_window=skip_window)\n",
    "    print('\\nwith skip_window = %d:' % skip_window)\n",
    "    print('    batch:', [[reverse_dictionary[m] for m in bi] for bi in batch])\n",
    "    print('    labels:', [reverse_dictionary[li] for li in labels.reshape(8)])"
   ]
  },
  {
   "cell_type": "code",
   "execution_count": 22,
   "metadata": {
    "collapsed": false
   },
   "outputs": [],
   "source": [
    "batch_size = 128\n",
    "embedding_size = 128 # Dimension of the embedding vector.\n",
    "skip_window = 1 # How many words to consider left and right.\n",
    "num_skips = 2 # How many times to reuse an input to generate a label.\n",
    "# We pick a random validation set to sample nearest neighbors. here we limit the\n",
    "# validation samples to the words that have a low numeric ID, which by\n",
    "# construction are also the most frequent. \n",
    "valid_size = 16 # Random set of words to evaluate similarity on.\n",
    "valid_window = 100 # Only pick dev samples in the head of the distribution.\n",
    "valid_examples = np.array(random.sample(range(valid_window), valid_size))\n",
    "num_sampled = 64 # Number of negative examples to sample.\n",
    "\n",
    "graph = tf.Graph()\n",
    "\n",
    "with graph.as_default(), tf.device('/cpu:0'):\n",
    "\n",
    "  # Input data.\n",
    "  span = 2*skip_window + 1 # [ skip_window target skip_window ]\n",
    "  train_dataset = tf.placeholder(tf.int32, shape=[batch_size, (span-1)])\n",
    "  train_labels = tf.placeholder(tf.int32, shape=[batch_size, 1])\n",
    "  valid_dataset = tf.constant(valid_examples, dtype=tf.int32)\n",
    "  \n",
    "  # Variables.\n",
    "  embeddings = tf.Variable(\n",
    "    tf.random_uniform([vocabulary_size, embedding_size], -1.0, 1.0))\n",
    "  softmax_weights = tf.Variable(\n",
    "    tf.truncated_normal([vocabulary_size, embedding_size],\n",
    "                         stddev=1.0 / math.sqrt(embedding_size)))\n",
    "  softmax_biases = tf.Variable(tf.zeros([vocabulary_size]))\n",
    "  \n",
    "  # Model.\n",
    "  # Look up embeddings for inputs.\n",
    "  assert skip_window == 1 # Handling of this value is hard-coded here.\n",
    "  embed0 = tf.nn.embedding_lookup(embeddings, train_dataset[:,0])\n",
    "  embed1 = tf.nn.embedding_lookup(embeddings, train_dataset[:,1])\n",
    "  embed = (embed0 + embed1)/(span-1)\n",
    "  # Compute the softmax loss, using a sample of the negative labels each time.\n",
    "  loss = tf.reduce_mean(\n",
    "    tf.nn.sampled_softmax_loss(softmax_weights, softmax_biases, embed,\n",
    "                               train_labels, num_sampled, vocabulary_size))\n",
    "  \n",
    "  # Optimizer.\n",
    "  optimizer = tf.train.AdagradOptimizer(1.0).minimize(loss)\n",
    "  \n",
    "  # Compute the similarity between minibatch examples and all embeddings.\n",
    "  # We use the cosine distance:\n",
    "  norm = tf.sqrt(tf.reduce_sum(tf.square(embeddings), 1, keep_dims=True))\n",
    "  normalized_embeddings = embeddings / norm\n",
    "  valid_embeddings = tf.nn.embedding_lookup(\n",
    "    normalized_embeddings, valid_dataset)\n",
    "  similarity = tf.matmul(valid_embeddings, tf.transpose(normalized_embeddings))"
   ]
  },
  {
   "cell_type": "code",
   "execution_count": 23,
   "metadata": {
    "collapsed": false
   },
   "outputs": [
    {
     "name": "stdout",
     "output_type": "stream",
     "text": [
      "Initialized\n",
      "Average loss at step 0: 7.845082\n",
      "Nearest to however: serviced, farina, harley, miranda, tanning, bubbled, hodges, fairies,\n",
      "Nearest to known: castes, nursia, mediation, gymnasts, serials, bradshaw, scientist, blow,\n",
      "Nearest to after: ghidorah, oyly, gau, microtubules, austronesian, tfl, rehearsing, patan,\n",
      "Nearest to for: alsace, goofy, nomadic, daggers, sep, diatonic, shrank, autocorrelation,\n",
      "Nearest to nine: necklaces, dosage, lockport, question, trisomy, manoeuvre, lori, experimenter,\n",
      "Nearest to six: characterise, resignation, chiba, pentafluoride, firms, apostolic, aged, jaspers,\n",
      "Nearest to only: apocalypse, saving, planet, leben, mnt, crowd, soriano, archaically,\n",
      "Nearest to up: unorganized, detachments, moesia, contractual, ayyavazhi, gaians, idol, helene,\n",
      "Nearest to some: mountaineering, hilbert, reina, america, counterintelligence, boilers, emmylou, setting,\n",
      "Nearest to most: representational, lite, lindsay, squaw, villains, extensively, eclipses, accumulated,\n",
      "Nearest to many: confusing, bedside, axons, bale, reappearance, shores, talkative, mitford,\n",
      "Nearest to was: solutions, synchronize, characters, satsuma, judith, archetypical, played, micah,\n",
      "Nearest to see: whipping, nashwaak, pinky, proportional, merci, declassified, communism, valign,\n",
      "Nearest to used: cossack, aerials, adolphe, colombians, krause, reservation, assistive, soundtrack,\n",
      "Nearest to states: inexpensively, runoff, decaying, balkan, kc, unleashing, enclave, totality,\n",
      "Nearest to their: presume, calibration, clearly, ali, constraint, handicapped, knees, algeria,\n",
      "Average loss at step 2000: 4.031571\n",
      "Average loss at step 4000: 3.511246\n",
      "Average loss at step 6000: 3.345694\n",
      "Average loss at step 8000: 3.195586\n",
      "Average loss at step 10000: 3.144050\n",
      "Nearest to however: betrayed, serviced, armstrong, where, around, made, jockey, chicken,\n",
      "Nearest to known: castes, nursia, eaten, serials, such, foss, phoned, pianos,\n",
      "Nearest to after: before, synodic, though, motherhood, existent, runway, roxy, giving,\n",
      "Nearest to for: into, conflicted, milking, cma, exhibited, pessoa, platoon, fraternity,\n",
      "Nearest to nine: eight, six, seven, five, zero, four, three, two,\n",
      "Nearest to six: eight, nine, five, three, seven, four, zero, two,\n",
      "Nearest to only: farmed, irradiation, concordance, riefenstahl, fools, contarini, bead, prefixes,\n",
      "Nearest to up: moesia, idol, detachments, gaians, springtime, helene, detention, refinements,\n",
      "Nearest to some: many, cordillera, any, several, the, mcduck, america, mountaineering,\n",
      "Nearest to most: lite, more, tobin, theseus, moonlight, bond, subsidised, aviation,\n",
      "Nearest to many: some, these, confusing, inherit, those, theseus, encoder, other,\n",
      "Nearest to was: is, has, were, had, phylogenetics, became, be, ferus,\n",
      "Nearest to see: research, axe, whipping, nsw, declassified, specialising, waldemar, agates,\n",
      "Nearest to used: krause, current, continued, oswaldo, diseases, boots, held, cvs,\n",
      "Nearest to states: inexpensively, runoff, kc, enclave, totality, bigfoot, optic, retiring,\n",
      "Nearest to their: his, its, the, this, constraint, her, labial, ammianus,\n",
      "Average loss at step 12000: 3.171129\n",
      "Average loss at step 14000: 3.125909\n",
      "Average loss at step 16000: 3.150987\n",
      "Average loss at step 18000: 3.102135\n",
      "Average loss at step 20000: 2.988063\n",
      "Nearest to however: but, serviced, betrayed, where, cryonics, that, although, armstrong,\n",
      "Nearest to known: eaten, castes, foss, such, serials, itself, regarded, nursia,\n",
      "Nearest to after: before, until, though, giving, motherhood, during, dara, rehearsing,\n",
      "Nearest to for: shenandoah, csicop, curtin, conflicted, cma, ibook, exhibited, constans,\n",
      "Nearest to nine: eight, six, seven, four, five, zero, three, pedagogic,\n",
      "Nearest to six: eight, five, seven, four, nine, three, zero, two,\n",
      "Nearest to only: farmed, irradiation, transverse, crowd, always, prefixes, contarini, rage,\n",
      "Nearest to up: moesia, detachments, him, mordor, masked, lipid, helene, incline,\n",
      "Nearest to some: many, these, any, several, cordillera, chymotrypsin, most, all,\n",
      "Nearest to most: more, lite, moonlight, superb, subsidised, dbms, theseus, greenwich,\n",
      "Nearest to many: some, these, various, those, several, confusing, inherit, apportioned,\n",
      "Nearest to was: is, has, were, had, became, be, ferus, been,\n",
      "Nearest to see: include, but, oncoming, declassified, vitality, research, specialising, hein,\n",
      "Nearest to used: held, cvs, seen, continued, oswaldo, published, krause, carrier,\n",
      "Nearest to states: inexpensively, kingdom, runoff, kc, cbs, anything, actress, welding,\n",
      "Nearest to their: its, his, her, the, constraint, whose, various, reznor,\n",
      "Average loss at step 22000: 3.050668\n",
      "Average loss at step 24000: 3.023262\n",
      "Average loss at step 26000: 2.988972\n",
      "Average loss at step 28000: 3.015502\n",
      "Average loss at step 30000: 2.991117\n",
      "Nearest to however: but, that, although, where, serviced, betrayed, picker, osorio,\n",
      "Nearest to known: eaten, foss, regarded, such, serials, castes, required, itself,\n",
      "Nearest to after: before, until, during, when, though, giving, within, lieberman,\n",
      "Nearest to for: shenandoah, without, cma, ibook, curtin, csicop, diatonic, iom,\n",
      "Nearest to nine: eight, seven, six, four, five, zero, three, two,\n",
      "Nearest to six: four, eight, five, seven, nine, three, two, zero,\n",
      "Nearest to only: farmed, always, hirohito, still, disturbed, irradiation, flips, otherwise,\n",
      "Nearest to up: him, detachments, moesia, down, out, masked, lipid, mordor,\n",
      "Nearest to some: many, several, these, any, most, various, all, the,\n",
      "Nearest to most: more, some, greenwich, senator, dbms, many, superb, subsidised,\n",
      "Nearest to many: some, several, various, these, those, inherit, locale, other,\n",
      "Nearest to was: is, became, had, has, were, be, been, being,\n",
      "Nearest to see: include, but, oncoming, vitality, peacekeepers, specialising, hein, according,\n",
      "Nearest to used: held, seen, found, published, written, reported, continued, cvs,\n",
      "Nearest to states: kingdom, inexpensively, countries, runoff, uses, anything, bigfoot, horses,\n",
      "Nearest to their: its, his, her, the, whose, our, constraint, wandered,\n",
      "Average loss at step 32000: 2.838615\n",
      "Average loss at step 34000: 2.944799\n",
      "Average loss at step 36000: 2.935265\n",
      "Average loss at step 38000: 2.943349\n",
      "Average loss at step 40000: 2.917834\n",
      "Nearest to however: but, although, that, picker, serviced, where, overall, osorio,\n",
      "Nearest to known: eaten, regarded, defined, foss, required, used, seen, castes,\n",
      "Nearest to after: before, during, until, when, though, giving, heliocentric, lieberman,\n",
      "Nearest to for: cma, csicop, shenandoah, curtin, falklands, without, codec, modeled,\n",
      "Nearest to nine: eight, seven, six, five, four, three, zero, two,\n",
      "Nearest to six: five, four, eight, seven, three, nine, zero, two,\n",
      "Nearest to only: farmed, always, hirohito, easily, flips, substitute, disturbed, still,\n",
      "Nearest to up: down, out, him, detachments, off, moesia, mordor, incline,\n",
      "Nearest to some: many, several, various, these, most, any, all, certain,\n",
      "Nearest to most: more, some, many, less, greenwich, blended, locale, dbms,\n",
      "Nearest to many: some, several, various, those, numerous, these, most, inherit,\n",
      "Nearest to was: is, became, has, were, had, be, been, being,\n",
      "Nearest to see: include, oncoming, but, peacekeepers, vitality, pound, axe, according,\n",
      "Nearest to used: found, seen, held, written, known, reported, cvs, published,\n",
      "Nearest to states: kingdom, inexpensively, countries, nations, buildings, anything, schlick, archaeologist,\n",
      "Nearest to their: its, his, her, the, our, whose, your, facet,\n",
      "Average loss at step 42000: 2.934740\n",
      "Average loss at step 44000: 2.943604\n",
      "Average loss at step 46000: 2.905441\n",
      "Average loss at step 48000: 2.871509\n",
      "Average loss at step 50000: 2.845164\n",
      "Nearest to however: but, although, that, picker, though, especially, administer, where,\n",
      "Nearest to known: eaten, regarded, used, defined, such, foss, required, seen,\n",
      "Nearest to after: before, during, when, until, without, though, despite, lieberman,\n",
      "Nearest to for: without, shenandoah, curtin, cma, csicop, iom, during, codec,\n",
      "Nearest to nine: eight, seven, six, five, four, zero, three, two,\n",
      "Nearest to six: eight, seven, five, four, nine, three, zero, two,\n",
      "Nearest to only: always, farmed, either, easily, substitute, still, otherwise, disturbed,\n",
      "Nearest to up: out, down, him, off, detachments, destry, mordor, moesia,\n",
      "Nearest to some: many, several, any, these, various, certain, most, all,\n",
      "Nearest to most: more, less, many, some, greenwich, locale, dbms, superb,\n",
      "Nearest to many: some, several, various, those, these, numerous, most, all,\n",
      "Nearest to was: is, became, had, were, has, been, be, becomes,\n",
      "Nearest to see: include, oncoming, pound, axe, but, asterisk, montag, according,\n",
      "Nearest to used: seen, found, held, known, reported, written, depicted, responsible,\n",
      "Nearest to states: kingdom, nations, countries, inexpensively, buildings, us, state, isaurian,\n",
      "Nearest to their: its, his, her, our, your, whose, the, these,\n",
      "Average loss at step 52000: 2.882532\n",
      "Average loss at step 54000: 2.864678\n",
      "Average loss at step 56000: 2.856049\n",
      "Average loss at step 58000: 2.759572\n",
      "Average loss at step 60000: 2.823049\n",
      "Nearest to however: but, although, that, though, especially, tango, while, picker,\n",
      "Nearest to known: defined, eaten, regarded, seen, used, such, required, foss,\n",
      "Nearest to after: before, when, during, until, without, despite, though, lieberman,\n",
      "Nearest to for: without, csicop, cma, shenandoah, rejuvenation, curtin, iom, conflicted,\n",
      "Nearest to nine: eight, seven, six, five, four, zero, three, two,\n",
      "Nearest to six: seven, eight, four, five, nine, three, zero, two,\n",
      "Nearest to only: always, either, otherwise, farmed, still, easily, flips, substitute,\n",
      "Nearest to up: out, down, off, him, destry, detachments, popolo, back,\n",
      "Nearest to some: many, several, any, most, these, certain, various, this,\n",
      "Nearest to most: more, some, less, many, greenwich, locale, dbms, blended,\n",
      "Nearest to many: some, several, various, those, numerous, these, all, few,\n",
      "Nearest to was: is, became, has, had, were, be, becomes, ferus,\n",
      "Nearest to see: include, but, oncoming, andries, according, refers, mande, asterisk,\n",
      "Nearest to used: held, found, seen, reported, depicted, written, known, required,\n",
      "Nearest to states: kingdom, nations, countries, state, buildings, schlick, isaurian, inexpensively,\n",
      "Nearest to their: its, his, her, our, your, whose, the, my,\n",
      "Average loss at step 62000: 2.829922\n",
      "Average loss at step 64000: 2.776876\n",
      "Average loss at step 66000: 2.768646\n",
      "Average loss at step 68000: 2.715828\n",
      "Average loss at step 70000: 2.777806\n",
      "Nearest to however: but, although, though, that, while, especially, picker, administer,\n",
      "Nearest to known: defined, regarded, eaten, used, such, required, seen, believed,\n",
      "Nearest to after: before, during, when, until, without, despite, though, while,\n",
      "Nearest to for: without, csicop, shenandoah, cma, during, curtin, conflicted, titian,\n",
      "Nearest to nine: eight, seven, six, five, four, three, zero, two,\n",
      "Nearest to six: seven, eight, five, nine, four, three, zero, two,\n",
      "Nearest to only: always, farmed, either, easily, kristina, irradiation, initially, flips,\n",
      "Nearest to up: out, off, down, him, destry, back, together, detachments,\n",
      "Nearest to some: many, several, certain, these, various, numerous, most, any,\n",
      "Nearest to most: more, less, some, many, greenwich, especially, dbms, blended,\n",
      "Nearest to many: some, several, various, numerous, those, these, all, few,\n",
      "Nearest to was: is, became, has, were, had, be, becomes, been,\n",
      "Nearest to see: include, but, oncoming, asterisk, known, according, andries, hosts,\n",
      "Nearest to used: seen, found, reported, held, depicted, appears, known, described,\n",
      "Nearest to states: kingdom, nations, countries, state, us, buildings, isaurian, pedestrians,\n",
      "Nearest to their: its, his, her, our, your, whose, the, my,\n",
      "Average loss at step 72000: 2.798618\n",
      "Average loss at step 74000: 2.650664\n",
      "Average loss at step 76000: 2.803110\n",
      "Average loss at step 78000: 2.821768\n",
      "Average loss at step 80000: 2.781568\n",
      "Nearest to however: but, although, though, administer, especially, while, that, picker,\n",
      "Nearest to known: regarded, defined, used, eaten, required, seen, believed, such,\n",
      "Nearest to after: before, when, during, without, despite, until, while, lieberman,\n",
      "Nearest to for: csicop, without, during, after, when, despite, curtin, shenandoah,\n",
      "Nearest to nine: eight, six, seven, five, four, three, zero, two,\n",
      "Nearest to six: eight, five, seven, nine, four, three, zero, two,\n",
      "Nearest to only: either, farmed, always, easily, kristina, initially, flips, irradiation,\n",
      "Nearest to up: down, out, off, him, back, together, destry, forth,\n",
      "Nearest to some: many, several, certain, most, any, these, various, those,\n",
      "Nearest to most: more, many, some, less, greenwich, especially, locale, orkney,\n",
      "Nearest to many: some, several, various, numerous, those, most, few, all,\n",
      "Nearest to was: is, became, has, were, had, becomes, been, be,\n",
      "Nearest to see: include, but, oncoming, external, includes, mande, andries, hosts,\n",
      "Nearest to used: depicted, seen, found, reported, known, designed, described, required,\n",
      "Nearest to states: nations, kingdom, countries, state, buildings, schlick, isaurian, archaeologist,\n",
      "Nearest to their: its, his, her, our, your, whose, the, my,\n",
      "Average loss at step 82000: 2.675634\n",
      "Average loss at step 84000: 2.771019\n",
      "Average loss at step 86000: 2.743354\n",
      "Average loss at step 88000: 2.758232\n",
      "Average loss at step 90000: 2.743511\n",
      "Nearest to however: but, although, though, that, while, especially, administer, picker,\n",
      "Nearest to known: regarded, defined, eaten, called, used, seen, required, such,\n",
      "Nearest to after: before, during, when, without, despite, until, while, though,\n",
      "Nearest to for: csicop, without, cma, shenandoah, curtin, conflicted, falklands, constans,\n",
      "Nearest to nine: eight, seven, six, four, five, three, zero, two,\n",
      "Nearest to six: eight, seven, four, five, nine, three, zero, two,\n",
      "Nearest to only: either, always, kristina, farmed, disturbed, flips, easily, hirohito,\n",
      "Nearest to up: down, off, out, him, back, together, forth, them,\n",
      "Nearest to some: many, several, certain, various, most, these, any, numerous,\n",
      "Nearest to most: more, many, less, some, greenwich, especially, locale, various,\n",
      "Nearest to many: some, several, various, numerous, those, most, few, both,\n",
      "Nearest to was: is, has, became, had, becomes, were, be, treasured,\n",
      "Nearest to see: include, but, oncoming, list, andries, includes, external, palazzo,\n",
      "Nearest to used: depicted, found, seen, reported, responsible, designed, described, available,\n",
      "Nearest to states: nations, countries, kingdom, state, buildings, schlick, us, isaurian,\n",
      "Nearest to their: its, his, her, our, your, whose, my, the,\n",
      "Average loss at step 92000: 2.685750\n",
      "Average loss at step 94000: 2.729221\n",
      "Average loss at step 96000: 2.708846\n",
      "Average loss at step 98000: 2.385564\n",
      "Average loss at step 100000: 2.420342\n",
      "Nearest to however: but, although, though, while, that, especially, tango, occur,\n",
      "Nearest to known: regarded, defined, eaten, used, seen, called, required, believed,\n",
      "Nearest to after: before, when, during, without, despite, while, though, until,\n",
      "Nearest to for: without, after, csicop, cma, conflicted, during, sulfuric, flick,\n",
      "Nearest to nine: eight, seven, six, five, four, three, zero, two,\n",
      "Nearest to six: seven, four, five, nine, eight, three, zero, two,\n",
      "Nearest to only: either, kristina, always, farmed, easily, hirohito, jacquard, irradiation,\n",
      "Nearest to up: down, off, out, back, him, together, forth, them,\n",
      "Nearest to some: many, several, certain, various, any, most, these, numerous,\n",
      "Nearest to most: more, less, especially, greenwich, some, many, locale, blended,\n",
      "Nearest to many: some, several, various, numerous, those, few, all, both,\n",
      "Nearest to was: is, had, became, were, has, be, wrote, been,\n",
      "Nearest to see: include, external, oncoming, list, familia, includes, refer, andries,\n",
      "Nearest to used: depicted, found, seen, described, known, reported, perceived, designed,\n",
      "Nearest to states: nations, kingdom, countries, state, us, buildings, sociolinguistics, isaurian,\n",
      "Nearest to their: its, his, her, our, your, whose, my, the,\n"
     ]
    }
   ],
   "source": [
    "num_steps = 100001\n",
    "\n",
    "with tf.Session(graph=graph) as session:\n",
    "  tf.initialize_all_variables().run()\n",
    "  print('Initialized')\n",
    "  average_loss = 0\n",
    "  for step in range(num_steps):\n",
    "    batch_data, batch_labels = generate_batch(\n",
    "      batch_size, skip_window)\n",
    "    feed_dict = {train_dataset : batch_data, train_labels : batch_labels}\n",
    "    _, l = session.run([optimizer, loss], feed_dict=feed_dict)\n",
    "    average_loss += l\n",
    "    if step % 2000 == 0:\n",
    "      if step > 0:\n",
    "        average_loss = average_loss / 2000\n",
    "      # The average loss is an estimate of the loss over the last 2000 batches.\n",
    "      print('Average loss at step %d: %f' % (step, average_loss))\n",
    "      average_loss = 0\n",
    "    # note that this is expensive (~20% slowdown if computed every 500 steps)\n",
    "    if step % 10000 == 0:\n",
    "      sim = similarity.eval()\n",
    "      for i in xrange(valid_size):\n",
    "        valid_word = reverse_dictionary[valid_examples[i]]\n",
    "        top_k = 8 # number of nearest neighbors\n",
    "        nearest = (-sim[i, :]).argsort()[1:top_k+1]\n",
    "        log = 'Nearest to %s:' % valid_word\n",
    "        for k in xrange(top_k):\n",
    "          close_word = reverse_dictionary[nearest[k]]\n",
    "          log = '%s %s,' % (log, close_word)\n",
    "        print(log)\n",
    "  final_embeddings = normalized_embeddings.eval()"
   ]
  },
  {
   "cell_type": "code",
   "execution_count": null,
   "metadata": {
    "collapsed": true
   },
   "outputs": [],
   "source": []
  }
 ],
 "metadata": {
  "colab": {
   "default_view": {},
   "name": "5_word2vec.ipynb",
   "provenance": [],
   "version": "0.3.2",
   "views": {}
  },
  "kernelspec": {
   "display_name": "Python 2",
   "language": "python",
   "name": "python2"
  },
  "language_info": {
   "codemirror_mode": {
    "name": "ipython",
    "version": 2
   },
   "file_extension": ".py",
   "mimetype": "text/x-python",
   "name": "python",
   "nbconvert_exporter": "python",
   "pygments_lexer": "ipython2",
   "version": "2.7.6"
  }
 },
 "nbformat": 4,
 "nbformat_minor": 0
}
